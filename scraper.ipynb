{
 "cells": [
  {
   "cell_type": "code",
   "execution_count": 41,
   "metadata": {},
   "outputs": [],
   "source": [
    "from bs4 import  BeautifulSoup as bs\n",
    "from urllib.request import  urlopen\n",
    "import pandas as pd \n",
    "from tqdm.rich import  tqdm\n",
    "import numpy as np"
   ]
  },
  {
   "cell_type": "code",
   "execution_count": 42,
   "metadata": {},
   "outputs": [],
   "source": [
    "url = \"https://www.realtor.com/international/ma\"\n",
    "client = urlopen(url)\n",
    "html = client.read()\n",
    "client.close()"
   ]
  },
  {
   "cell_type": "code",
   "execution_count": 43,
   "metadata": {},
   "outputs": [],
   "source": [
    "soup = bs(html,\"html.parser\")"
   ]
  },
  {
   "cell_type": "code",
   "execution_count": 44,
   "metadata": {},
   "outputs": [
    {
     "data": {
      "text/plain": [
       "25"
      ]
     },
     "execution_count": 44,
     "metadata": {},
     "output_type": "execute_result"
    }
   ],
   "source": [
    "container = soup.find_all('div',{\"class\":'sc-1dun5hk-5 sc-1dun5hk-7 ijlLGk'})\n",
    "len(container)"
   ]
  },
  {
   "cell_type": "code",
   "execution_count": 45,
   "metadata": {},
   "outputs": [
    {
     "data": {
      "text/plain": [
       "'<div class=\"sc-1dun5hk-5 sc-1dun5hk-7 ijlLGk\" data-testid=\"standard-listing-card\" style=\"width:100%;height:100%\">\\n <div class=\"price\" style=\"display:block\">\\n  <div class=\"displayConsumerPrice\">\\n   USD $239,769\\n  </div>\\n  <div class=\"displayListingPrice\">\\n   MAD د.م.2,400,000\\n  </div>\\n </div>\\n <div class=\"address\">\\n  Ennakhil-(Palmeraie), Marrakech, Marrakesh-Safi\\n </div>\\n <div class=\"sc-1dun5hk-9 bxFCly\">\\n  <div class=\"features\" data-testid=\"features\">\\n   <div class=\"feature-item\">\\n    <img alt=\"bedrooms\" src=\"data:image/svg+xml;base64,PHN2ZyB3aWR0aD0iMTYiIGhlaWdodD0iMTYiIHZpZXdCb3g9IjAgMCAxNiAxNiIgZmlsbD0ibm9uZSIgeG1sbnM9Imh0dHA6Ly93d3cudzMub3JnLzIwMDAvc3ZnIj4KPHBhdGggZmlsbC1ydWxlPSJldmVub2RkIiBjbGlwLXJ1bGU9ImV2ZW5vZGQiIGQ9Ik00LjIyMjQ5IDQuNUMzLjc5NzQzIDQuNSAzLjQxODgzIDQuNzY4NyAzLjI3ODUzIDUuMTY5OTNMMi4wNTQ3MSA4LjY2OTkzQzEuODI3MzggOS4zMjAwNiAyLjMwOTk0IDEwIDIuOTk4NjYgMTBIMTMuMDAxNkMxMy42OTAzIDEwIDE0LjE3MjkgOS4zMjAwNiAxMy45NDU2IDguNjY5OTNMMTIuNzIxNyA1LjE2OTkzQzEyLjU4MTQgNC43Njg3IDEyLjIwMjggNC41IDExLjc3NzggNC41SDQuMjIyNDlaIiBzdHJva2U9IiM2OTc2ODQiIHN0cm9rZS1saW5lY2FwPSJyb3VuZCIgc3Ryb2tlLWxpbmVqb2luPSJyb3VuZCIvPgo8cGF0aCBvcGFjaXR5PSIwLjk4IiBkPSJNMy41MDE1OSAxMy41VjE1IiBzdHJva2U9IiM2OTc2ODQiIHN0cm9rZS1saW5lY2FwPSJyb3VuZCIgc3Ryb2tlLWxpbmVqb2luPSJyb3VuZCIvPgo8cGF0aCBkPSJNMTIuNTAxNiAxMy41VjE1IiBzdHJva2U9IiM2OTc2ODQiIHN0cm9rZS1saW5lY2FwPSJyb3VuZCIgc3Ryb2tlLWxpbmVqb2luPSJyb3VuZCIvPgo8cGF0aCBmaWxsLXJ1bGU9ImV2ZW5vZGQiIGNsaXAtcnVsZT0iZXZlbm9kZCIgZD0iTTMuNDQ3NDggMS43MDQxNkMzLjU3NzE2IDEuMjg1NDUgMy45NjQ0IDEgNC40MDI3MiAxSDExLjYwMDFDMTIuMDM4NCAxIDEyLjQyNTcgMS4yODU0NSAxMi41NTUzIDEuNzA0MTZMMTMuMDE5OSAzLjIwNDE2QzEzLjIxOTIgMy44NDc1OCAxMi43MzgyIDQuNSAxMi4wNjQ3IDQuNUgzLjkzODE3QzMuMjY0NiA0LjUgMi43ODM2NiAzLjg0NzU4IDIuOTgyOTMgMy4yMDQxNkwzLjQ0NzQ4IDEuNzA0MTZaIiBzdHJva2U9IiM2OTc2ODQiIHN0cm9rZS1saW5lY2FwPSJyb3VuZCIgc3Ryb2tlLWxpbmVqb2luPSJyb3VuZCIvPgo8cGF0aCBkPSJNMiA5VjExQzIgMTIuMTA0NiAyLjg5NTQzIDEzIDQgMTNIMTJDMTMuMTA0NiAxMyAxNCAxMi4xMDQ2IDE0IDExVjkiIHN0cm9rZT0iIzY5NzY4NCIgc3Ryb2tlLWxpbmVjYXA9InJvdW5kIiBzdHJva2UtbGluZWpvaW49InJvdW5kIi8+Cjwvc3ZnPgo=\"/>\\n    <!-- -->\\n    2\\n   </div>\\n   <div class=\"feature-item\">\\n    <img alt=\"bathroom\" src=\"data:image/svg+xml;base64,PHN2ZyB3aWR0aD0iMTYiIGhlaWdodD0iMTYiIHZpZXdCb3g9IjAgMCAxNiAxNiIgZmlsbD0ibm9uZSIgeG1sbnM9Imh0dHA6Ly93d3cudzMub3JnLzIwMDAvc3ZnIj4KPHBhdGggZmlsbC1ydWxlPSJldmVub2RkIiBjbGlwLXJ1bGU9ImV2ZW5vZGQiIGQ9Ik04IDE0LjVDMTQgMTQuNSAxNCAxMCAxNCAxMEMxNCAxMCAxMS4zMTM3IDEwIDggMTBDNC42ODYyOSAxMCAyIDEwIDIgMTBDMiAxMCAyIDE0LjUgOCAxNC41WiIgc3Ryb2tlPSIjNjk3Njg0IiBzdHJva2UtbGluZWNhcD0icm91bmQiIHN0cm9rZS1saW5lam9pbj0icm91bmQiLz4KPHBhdGggZmlsbC1ydWxlPSJldmVub2RkIiBjbGlwLXJ1bGU9ImV2ZW5vZGQiIGQ9Ik04IDMuOTk5OUMxMCAzLjk5OTkgMTAgNi4zOTk5IDEwIDYuMzk5OUMxMCA2LjM5OTkgOS4xMDQ1NyA2LjM5OTkgOCA2LjM5OTlDNi44OTU0MyA2LjM5OTkgNiA2LjM5OTkgNiA2LjM5OTlDNiA2LjM5OTkgNiAzLjk5OTkgOCAzLjk5OTlaIiBzdHJva2U9IiM2OTc2ODQiIHN0cm9rZS1saW5lY2FwPSJyb3VuZCIgc3Ryb2tlLWxpbmVqb2luPSJyb3VuZCIvPgo8cGF0aCBkPSJNMTMgMTBWMy41QzEzIDIuMTE5MjkgMTEuODgwNyAwLjk5OTk5OSAxMC41IDAuOTk5OTk5VjAuOTk5OTk5QzkuMTE5MjkgMC45OTk5OTkgOCAyLjExOTI5IDggMy41VjQiIHN0cm9rZT0iIzY5NzY4NCIgc3Ryb2tlLWxpbmVjYXA9InJvdW5kIiBzdHJva2UtbGluZWpvaW49InJvdW5kIi8+CjxwYXRoIGQ9Ik00Ljk5OTk2IDE0TDQuMzI5MTQgMTUiIHN0cm9rZT0iIzY5NzY4NCIgc3Ryb2tlLWxpbmVjYXA9InJvdW5kIiBzdHJva2UtbGluZWpvaW49InJvdW5kIi8+CjxwYXRoIGQ9Ik0xMSAxNEwxMS42NzA5IDE1IiBzdHJva2U9IiM2OTc2ODQiIHN0cm9rZS1saW5lY2FwPSJyb3VuZCIgc3Ryb2tlLWxpbmVqb2luPSJyb3VuZCIvPgo8L3N2Zz4K\"/>\\n    <!-- -->\\n    2\\n   </div>\\n   <div class=\"feature-item\">\\n    <img alt=\"buildingSize\" src=\"data:image/svg+xml;base64,PHN2ZyB3aWR0aD0iMTYiIGhlaWdodD0iMTYiIHZpZXdCb3g9IjAgMCAxNiAxNiIgZmlsbD0ibm9uZSIgeG1sbnM9Imh0dHA6Ly93d3cudzMub3JnLzIwMDAvc3ZnIj4KPHBhdGggZD0iTTE0LjUgMTVWMTMiIHN0cm9rZT0iIzY5NzY4NCIgc3Ryb2tlLWxpbmVjYXA9InJvdW5kIiBzdHJva2UtbGluZWpvaW49InJvdW5kIi8+CjxwYXRoIGQ9Ik01LjUgMTVWMTMiIHN0cm9rZT0iIzY5NzY4NCIgc3Ryb2tlLWxpbmVjYXA9InJvdW5kIiBzdHJva2UtbGluZWpvaW49InJvdW5kIi8+CjxwYXRoIGQ9Ik02IDE0SDE0IiBzdHJva2U9IiM2OTc2ODQiIHN0cm9rZS1saW5lam9pbj0icm91bmQiLz4KPHBhdGggZD0iTTMgMkwxIDIiIHN0cm9rZT0iIzY5NzY4NCIgc3Ryb2tlLWxpbmVjYXA9InJvdW5kIiBzdHJva2UtbGluZWpvaW49InJvdW5kIi8+CjxwYXRoIGQ9Ik0zIDExSDEiIHN0cm9rZT0iIzY5NzY4NCIgc3Ryb2tlLWxpbmVjYXA9InJvdW5kIiBzdHJva2UtbGluZWpvaW49InJvdW5kIi8+CjxwYXRoIGQ9Ik0yIDEwLjVMMiAyLjUiIHN0cm9rZT0iIzY5NzY4NCIgc3Ryb2tlLWxpbmVjYXA9InJvdW5kIiBzdHJva2UtbGluZWpvaW49InJvdW5kIi8+CjxwYXRoIGQ9Ik02IDVMNiAxMEM2IDEwLjU1MjMgNi40NDc3MiAxMSA3IDExSDEzQzEzLjU1MjMgMTEgMTQgMTAuNTUyMyAxNCAxMFY1LjAwMTQ3IiBzdHJva2U9IiM2OTc2ODQiIHN0cm9rZS1saW5lY2FwPSJyb3VuZCIgc3Ryb2tlLWxpbmVqb2luPSJyb3VuZCIvPgo8cGF0aCBkPSJNNSA2TDEwIDFMMTUgNiIgc3Ryb2tlPSIjNjk3Njg0IiBzdHJva2UtbGluZWNhcD0icm91bmQiIHN0cm9rZS1saW5lam9pbj0icm91bmQiLz4KPC9zdmc+Cg==\"/>\\n    <span>\\n     1,399.31 sq ft\\n    </span>\\n   </div>\\n  </div>\\n </div>\\n <div class=\"property-type\">\\n  Apartment\\n </div>\\n <div class=\"view-detail\">\\n  View details\\n </div>\\n</div>\\n'"
      ]
     },
     "execution_count": 45,
     "metadata": {},
     "output_type": "execute_result"
    }
   ],
   "source": [
    "bs.prettify(container[0])"
   ]
  },
  {
   "cell_type": "code",
   "execution_count": 46,
   "metadata": {},
   "outputs": [
    {
     "data": {
      "text/plain": [
       "'USD $239,769'"
      ]
     },
     "execution_count": 46,
     "metadata": {},
     "output_type": "execute_result"
    }
   ],
   "source": [
    "#price\n",
    "a = container[0].find_all('div',{\"class\",'displayConsumerPrice'})\n",
    "b = a[0].text\n",
    "b"
   ]
  },
  {
   "cell_type": "code",
   "execution_count": 47,
   "metadata": {},
   "outputs": [
    {
     "data": {
      "text/plain": [
       "'Apartment'"
      ]
     },
     "execution_count": 47,
     "metadata": {},
     "output_type": "execute_result"
    }
   ],
   "source": [
    "#proprety type\n",
    "a = container[0].find_all('div',{\"class\",'property-type'})\n",
    "b = a[0].text\n",
    "b\n"
   ]
  },
  {
   "cell_type": "code",
   "execution_count": 48,
   "metadata": {},
   "outputs": [
    {
     "data": {
      "text/plain": [
       "'Ennakhil-(Palmeraie), Marrakech, Marrakesh-Safi'"
      ]
     },
     "execution_count": 48,
     "metadata": {},
     "output_type": "execute_result"
    }
   ],
   "source": [
    "#address\n",
    "a = container[0].find_all('div',{\"class\",'address'})\n",
    "b = a[0].text\n",
    "b"
   ]
  },
  {
   "cell_type": "code",
   "execution_count": 49,
   "metadata": {},
   "outputs": [
    {
     "data": {
      "text/plain": [
       "' 2 2947.22 sq ft'"
      ]
     },
     "execution_count": 49,
     "metadata": {},
     "output_type": "execute_result"
    }
   ],
   "source": [
    "a = container[8].find_all('div',{\"class\",'features'})\n",
    "b = a[0].text\n",
    "b"
   ]
  },
  {
   "cell_type": "code",
   "execution_count": 50,
   "metadata": {},
   "outputs": [
    {
     "name": "stdout",
     "output_type": "stream",
     "text": [
      "0\n",
      " 6\n",
      "1\n",
      " 6\n",
      "2\n",
      "14,531.28 sq ft\n"
     ]
    }
   ],
   "source": [
    "\n",
    "a = container[1].find_all('div',{\"class\",'feature-item'})\n",
    "for i in range(len(a)):\n",
    "    print(i)\n",
    "    b = a[i].text\n",
    "    print(b)\n"
   ]
  },
  {
   "cell_type": "code",
   "execution_count": 51,
   "metadata": {},
   "outputs": [
    {
     "name": "stdout",
     "output_type": "stream",
     "text": [
      "nothing\n",
      "nothing\n",
      "1,399.31 sq ft\n"
     ]
    }
   ],
   "source": [
    " a = container[0].find_all('div',{\"class\",'feature-item'})\n",
    "for e in range(len(a)):\n",
    "    text = a[e].text\n",
    "    if text.endswith(\"sq ft\"):\n",
    "                print(text)\n",
    "        \n",
    "    else  :\n",
    "                print('nothing')"
   ]
  },
  {
   "cell_type": "markdown",
   "metadata": {},
   "source": [
    "### **craping program**"
   ]
  },
  {
   "cell_type": "code",
   "execution_count": 60,
   "metadata": {},
   "outputs": [
    {
     "data": {
      "application/vnd.jupyter.widget-view+json": {
       "model_id": "29241d083e29443b977135b6dbe1adfe",
       "version_major": 2,
       "version_minor": 0
      },
      "text/plain": [
       "Output()"
      ]
     },
     "metadata": {},
     "output_type": "display_data"
    },
    {
     "name": "stderr",
     "output_type": "stream",
     "text": [
      "C:\\Users\\ayman\\AppData\\Local\\Temp\\ipykernel_20476\\614250793.py:11: TqdmExperimentalWarning: rich is experimental/alpha\n",
      "  for p in tqdm(range(200),desc=f\"✨ Processing pages\"):\n"
     ]
    },
    {
     "data": {
      "text/html": [
       "<pre style=\"white-space:pre;overflow-x:auto;line-height:normal;font-family:Menlo,'DejaVu Sans Mono',consolas,'Courier New',monospace\"></pre>\n"
      ],
      "text/plain": []
     },
     "metadata": {},
     "output_type": "display_data"
    },
    {
     "data": {
      "text/html": [
       "<div>\n",
       "<style scoped>\n",
       "    .dataframe tbody tr th:only-of-type {\n",
       "        vertical-align: middle;\n",
       "    }\n",
       "\n",
       "    .dataframe tbody tr th {\n",
       "        vertical-align: top;\n",
       "    }\n",
       "\n",
       "    .dataframe thead th {\n",
       "        text-align: right;\n",
       "    }\n",
       "</style>\n",
       "<table border=\"1\" class=\"dataframe\">\n",
       "  <thead>\n",
       "    <tr style=\"text-align: right;\">\n",
       "      <th></th>\n",
       "      <th>price</th>\n",
       "      <th>proprety type</th>\n",
       "      <th>surface</th>\n",
       "      <th>bedroom</th>\n",
       "      <th>bathroom</th>\n",
       "      <th>address</th>\n",
       "    </tr>\n",
       "  </thead>\n",
       "  <tbody>\n",
       "    <tr>\n",
       "      <th>0</th>\n",
       "      <td>USD $239,769</td>\n",
       "      <td>Apartment</td>\n",
       "      <td>1,399.31 sq ft</td>\n",
       "      <td>2</td>\n",
       "      <td>2</td>\n",
       "      <td>Ennakhil-(Palmeraie), Marrakech, Marrakesh-Safi</td>\n",
       "    </tr>\n",
       "    <tr>\n",
       "      <th>1</th>\n",
       "      <td>USD $1,798,271</td>\n",
       "      <td>House</td>\n",
       "      <td>14,531.28 sq ft</td>\n",
       "      <td>6</td>\n",
       "      <td>6</td>\n",
       "      <td>Ennakhil-(Palmeraie), Marrakech, Marrakesh-Safi</td>\n",
       "    </tr>\n",
       "    <tr>\n",
       "      <th>2</th>\n",
       "      <td>USD $434,582</td>\n",
       "      <td>House</td>\n",
       "      <td>4,305.56 sq ft</td>\n",
       "      <td>4</td>\n",
       "      <td>6</td>\n",
       "      <td>Ménara, Marrakech, Marrakesh-Tensift-El Haouz</td>\n",
       "    </tr>\n",
       "    <tr>\n",
       "      <th>3</th>\n",
       "      <td>USD $129,875</td>\n",
       "      <td>Apartment</td>\n",
       "      <td>893.40 sq ft</td>\n",
       "      <td>2</td>\n",
       "      <td>2</td>\n",
       "      <td>Guéliz, Marrakech, Marrakesh-Tensift-El Haouz ...</td>\n",
       "    </tr>\n",
       "    <tr>\n",
       "      <th>4</th>\n",
       "      <td>USD $199,808</td>\n",
       "      <td>Apartment</td>\n",
       "      <td>1,367.02 sq ft</td>\n",
       "      <td>3</td>\n",
       "      <td>2</td>\n",
       "      <td>Anfa, Casablanca, Casablanca-Settat</td>\n",
       "    </tr>\n",
       "  </tbody>\n",
       "</table>\n",
       "</div>"
      ],
      "text/plain": [
       "            price proprety type          surface bedroom bathroom  \\\n",
       "0    USD $239,769     Apartment   1,399.31 sq ft       2        2   \n",
       "1  USD $1,798,271         House  14,531.28 sq ft       6        6   \n",
       "2    USD $434,582         House   4,305.56 sq ft       4        6   \n",
       "3    USD $129,875     Apartment     893.40 sq ft       2        2   \n",
       "4    USD $199,808     Apartment   1,367.02 sq ft       3        2   \n",
       "\n",
       "                                             address  \n",
       "0    Ennakhil-(Palmeraie), Marrakech, Marrakesh-Safi  \n",
       "1    Ennakhil-(Palmeraie), Marrakech, Marrakesh-Safi  \n",
       "2      Ménara, Marrakech, Marrakesh-Tensift-El Haouz  \n",
       "3  Guéliz, Marrakech, Marrakesh-Tensift-El Haouz ...  \n",
       "4                Anfa, Casablanca, Casablanca-Settat  "
      ]
     },
     "execution_count": 60,
     "metadata": {},
     "output_type": "execute_result"
    }
   ],
   "source": [
    "#lists\n",
    "price = []\n",
    "proprety_type =[]\n",
    "adress = []\n",
    "bedroom = []\n",
    "surface =[]\n",
    "bathroom = []\n",
    "\n",
    "\n",
    "\n",
    "for p in tqdm(range(200),desc=f\"✨ Processing pages\"):\n",
    "\n",
    "    try:\n",
    "        url = f\"https://www.realtor.com/international/ma/p{p+1}\"\n",
    "        client = urlopen(url)\n",
    "        html = client.read()\n",
    "        client.close()\n",
    "        soup = bs(html,\"html.parser\")\n",
    "        container = soup.find_all('div',{\"class\":'sc-1dun5hk-5 sc-1dun5hk-7 ijlLGk'})\n",
    "        for i in range(len(container)):\n",
    "        \n",
    "        #price\n",
    "            a = container[i].find_all('div',{\"class\":'displayConsumerPrice'})\n",
    "            price.append(a[0].text.strip() if a else np.nan)\n",
    "        #proprety_type\n",
    "            a = container[i].find_all('div',{\"class\":'property-type'})\n",
    "            proprety_type.append(a[0].text.strip() if a else np.nan)\n",
    "        #addres\n",
    "            a = container[i].find_all('div',{\"class\":'address'})\n",
    "            adress.append(a[0].text.strip() if a else np.nan)\n",
    "        #feaures\n",
    "            a = container[i].find_all('div', {\"class\": 'feature-item'})\n",
    "            sq_ft = [text for text in (item.text for item in a) if text.endswith(\"sq ft\")]\n",
    "            surface.append(sq_ft[0] if sq_ft else np.nan)\n",
    "       \n",
    "            a = container[i].find_all('div',{\"class\":'feature-item'}) \n",
    "            bedroom.append(a[0].text if  len(a) >= 1 else np.nan)\n",
    "            bathroom.append(a[1].text if  len(a) >= 2 else np.nan)\n",
    "\n",
    "    except Exception as e:\n",
    "        tqdm.write(f\"Error on page {p+1}: {e}\")\n",
    "    continue    \n",
    "\n",
    "\n",
    "\n",
    "\n",
    "\n",
    "data = pd.DataFrame({\n",
    "\"price\" : price,\n",
    "\"proprety type\" : proprety_type,\n",
    "\"surface\" : surface,\n",
    "\"bedroom\" : bedroom,\n",
    "\"bathroom\":bathroom,\n",
    "\"address\" : adress,\n",
    "\n",
    "})\n",
    "\n",
    "\n",
    "data.head(5)\n",
    "\n",
    "        \n",
    "\n"
   ]
  },
  {
   "cell_type": "code",
   "execution_count": 61,
   "metadata": {},
   "outputs": [
    {
     "data": {
      "text/html": [
       "<div>\n",
       "<style scoped>\n",
       "    .dataframe tbody tr th:only-of-type {\n",
       "        vertical-align: middle;\n",
       "    }\n",
       "\n",
       "    .dataframe tbody tr th {\n",
       "        vertical-align: top;\n",
       "    }\n",
       "\n",
       "    .dataframe thead th {\n",
       "        text-align: right;\n",
       "    }\n",
       "</style>\n",
       "<table border=\"1\" class=\"dataframe\">\n",
       "  <thead>\n",
       "    <tr style=\"text-align: right;\">\n",
       "      <th></th>\n",
       "      <th>price</th>\n",
       "      <th>proprety type</th>\n",
       "      <th>surface</th>\n",
       "      <th>bedroom</th>\n",
       "      <th>bathroom</th>\n",
       "      <th>address</th>\n",
       "    </tr>\n",
       "  </thead>\n",
       "  <tbody>\n",
       "    <tr>\n",
       "      <th>0</th>\n",
       "      <td>USD $239,769</td>\n",
       "      <td>Apartment</td>\n",
       "      <td>1,399.31 sq ft</td>\n",
       "      <td>2</td>\n",
       "      <td>2</td>\n",
       "      <td>Ennakhil-(Palmeraie), Marrakech, Marrakesh-Safi</td>\n",
       "    </tr>\n",
       "    <tr>\n",
       "      <th>1</th>\n",
       "      <td>USD $1,798,271</td>\n",
       "      <td>House</td>\n",
       "      <td>14,531.28 sq ft</td>\n",
       "      <td>6</td>\n",
       "      <td>6</td>\n",
       "      <td>Ennakhil-(Palmeraie), Marrakech, Marrakesh-Safi</td>\n",
       "    </tr>\n",
       "    <tr>\n",
       "      <th>2</th>\n",
       "      <td>USD $434,582</td>\n",
       "      <td>House</td>\n",
       "      <td>4,305.56 sq ft</td>\n",
       "      <td>4</td>\n",
       "      <td>6</td>\n",
       "      <td>Ménara, Marrakech, Marrakesh-Tensift-El Haouz</td>\n",
       "    </tr>\n",
       "    <tr>\n",
       "      <th>3</th>\n",
       "      <td>USD $129,875</td>\n",
       "      <td>Apartment</td>\n",
       "      <td>893.40 sq ft</td>\n",
       "      <td>2</td>\n",
       "      <td>2</td>\n",
       "      <td>Guéliz, Marrakech, Marrakesh-Tensift-El Haouz ...</td>\n",
       "    </tr>\n",
       "    <tr>\n",
       "      <th>4</th>\n",
       "      <td>USD $199,808</td>\n",
       "      <td>Apartment</td>\n",
       "      <td>1,367.02 sq ft</td>\n",
       "      <td>3</td>\n",
       "      <td>2</td>\n",
       "      <td>Anfa, Casablanca, Casablanca-Settat</td>\n",
       "    </tr>\n",
       "    <tr>\n",
       "      <th>...</th>\n",
       "      <td>...</td>\n",
       "      <td>...</td>\n",
       "      <td>...</td>\n",
       "      <td>...</td>\n",
       "      <td>...</td>\n",
       "      <td>...</td>\n",
       "    </tr>\n",
       "    <tr>\n",
       "      <th>414</th>\n",
       "      <td>USD $157,551</td>\n",
       "      <td>Land</td>\n",
       "      <td>51,666.77 sq ft</td>\n",
       "      <td>51,666.77 sq ft</td>\n",
       "      <td>NaN</td>\n",
       "      <td>Essaouira, Marrakesh-Safi</td>\n",
       "    </tr>\n",
       "    <tr>\n",
       "      <th>415</th>\n",
       "      <td>USD $189,061</td>\n",
       "      <td>House</td>\n",
       "      <td>5,263.55 sq ft</td>\n",
       "      <td>7</td>\n",
       "      <td>5,263.55 sq ft</td>\n",
       "      <td>Essaouira, Marrakesh-Safi</td>\n",
       "    </tr>\n",
       "    <tr>\n",
       "      <th>416</th>\n",
       "      <td>USD $609,197</td>\n",
       "      <td>House</td>\n",
       "      <td>3,476.74 sq ft</td>\n",
       "      <td>4</td>\n",
       "      <td>3,476.74 sq ft</td>\n",
       "      <td>Essaouira, Marrakesh-Safi</td>\n",
       "    </tr>\n",
       "    <tr>\n",
       "      <th>417</th>\n",
       "      <td>USD $945,306</td>\n",
       "      <td>House</td>\n",
       "      <td>8,611.13 sq ft</td>\n",
       "      <td>7</td>\n",
       "      <td>10</td>\n",
       "      <td>Essaouira, Marrakesh-Safi</td>\n",
       "    </tr>\n",
       "    <tr>\n",
       "      <th>418</th>\n",
       "      <td>USD $267,837</td>\n",
       "      <td>House</td>\n",
       "      <td>2,152.78 sq ft</td>\n",
       "      <td>3</td>\n",
       "      <td>2,152.78 sq ft</td>\n",
       "      <td>Essaouira, Marrakesh-Safi</td>\n",
       "    </tr>\n",
       "  </tbody>\n",
       "</table>\n",
       "<p>419 rows × 6 columns</p>\n",
       "</div>"
      ],
      "text/plain": [
       "              price proprety type          surface          bedroom  \\\n",
       "0      USD $239,769     Apartment   1,399.31 sq ft                2   \n",
       "1    USD $1,798,271         House  14,531.28 sq ft                6   \n",
       "2      USD $434,582         House   4,305.56 sq ft                4   \n",
       "3      USD $129,875     Apartment     893.40 sq ft                2   \n",
       "4      USD $199,808     Apartment   1,367.02 sq ft                3   \n",
       "..              ...           ...              ...              ...   \n",
       "414    USD $157,551          Land  51,666.77 sq ft  51,666.77 sq ft   \n",
       "415    USD $189,061         House   5,263.55 sq ft                7   \n",
       "416    USD $609,197         House   3,476.74 sq ft                4   \n",
       "417    USD $945,306         House   8,611.13 sq ft                7   \n",
       "418    USD $267,837         House   2,152.78 sq ft                3   \n",
       "\n",
       "           bathroom                                            address  \n",
       "0                 2    Ennakhil-(Palmeraie), Marrakech, Marrakesh-Safi  \n",
       "1                 6    Ennakhil-(Palmeraie), Marrakech, Marrakesh-Safi  \n",
       "2                 6      Ménara, Marrakech, Marrakesh-Tensift-El Haouz  \n",
       "3                 2  Guéliz, Marrakech, Marrakesh-Tensift-El Haouz ...  \n",
       "4                 2                Anfa, Casablanca, Casablanca-Settat  \n",
       "..              ...                                                ...  \n",
       "414             NaN                          Essaouira, Marrakesh-Safi  \n",
       "415  5,263.55 sq ft                          Essaouira, Marrakesh-Safi  \n",
       "416  3,476.74 sq ft                          Essaouira, Marrakesh-Safi  \n",
       "417              10                          Essaouira, Marrakesh-Safi  \n",
       "418  2,152.78 sq ft                          Essaouira, Marrakesh-Safi  \n",
       "\n",
       "[419 rows x 6 columns]"
      ]
     },
     "execution_count": 61,
     "metadata": {},
     "output_type": "execute_result"
    }
   ],
   "source": [
    "data"
   ]
  },
  {
   "cell_type": "code",
   "execution_count": 62,
   "metadata": {},
   "outputs": [
    {
     "data": {
      "text/plain": [
       "price             0\n",
       "proprety type     0\n",
       "surface          13\n",
       "bedroom           7\n",
       "bathroom         43\n",
       "address           0\n",
       "dtype: int64"
      ]
     },
     "execution_count": 62,
     "metadata": {},
     "output_type": "execute_result"
    }
   ],
   "source": [
    "data.isna().sum()"
   ]
  },
  {
   "cell_type": "code",
   "execution_count": 63,
   "metadata": {},
   "outputs": [],
   "source": [
    "df = data.copy()"
   ]
  },
  {
   "cell_type": "code",
   "execution_count": 65,
   "metadata": {},
   "outputs": [
    {
     "data": {
      "text/html": [
       "<div>\n",
       "<style scoped>\n",
       "    .dataframe tbody tr th:only-of-type {\n",
       "        vertical-align: middle;\n",
       "    }\n",
       "\n",
       "    .dataframe tbody tr th {\n",
       "        vertical-align: top;\n",
       "    }\n",
       "\n",
       "    .dataframe thead th {\n",
       "        text-align: right;\n",
       "    }\n",
       "</style>\n",
       "<table border=\"1\" class=\"dataframe\">\n",
       "  <thead>\n",
       "    <tr style=\"text-align: right;\">\n",
       "      <th></th>\n",
       "      <th>price</th>\n",
       "      <th>proprety type</th>\n",
       "      <th>surface</th>\n",
       "      <th>bedroom</th>\n",
       "      <th>bathroom</th>\n",
       "      <th>address</th>\n",
       "    </tr>\n",
       "  </thead>\n",
       "  <tbody>\n",
       "    <tr>\n",
       "      <th>0</th>\n",
       "      <td>239,769</td>\n",
       "      <td>Apartment</td>\n",
       "      <td>1,399.31</td>\n",
       "      <td>2</td>\n",
       "      <td>2</td>\n",
       "      <td>Ennakhil-(Palmeraie), Marrakech, Marrakesh-Safi</td>\n",
       "    </tr>\n",
       "    <tr>\n",
       "      <th>1</th>\n",
       "      <td>1,798,271</td>\n",
       "      <td>House</td>\n",
       "      <td>14,531.28</td>\n",
       "      <td>6</td>\n",
       "      <td>6</td>\n",
       "      <td>Ennakhil-(Palmeraie), Marrakech, Marrakesh-Safi</td>\n",
       "    </tr>\n",
       "    <tr>\n",
       "      <th>2</th>\n",
       "      <td>434,582</td>\n",
       "      <td>House</td>\n",
       "      <td>4,305.56</td>\n",
       "      <td>4</td>\n",
       "      <td>6</td>\n",
       "      <td>Ménara, Marrakech, Marrakesh-Tensift-El Haouz</td>\n",
       "    </tr>\n",
       "    <tr>\n",
       "      <th>3</th>\n",
       "      <td>129,875</td>\n",
       "      <td>Apartment</td>\n",
       "      <td>893.40</td>\n",
       "      <td>2</td>\n",
       "      <td>2</td>\n",
       "      <td>Guéliz, Marrakech, Marrakesh-Tensift-El Haouz ...</td>\n",
       "    </tr>\n",
       "    <tr>\n",
       "      <th>4</th>\n",
       "      <td>199,808</td>\n",
       "      <td>Apartment</td>\n",
       "      <td>1,367.02</td>\n",
       "      <td>3</td>\n",
       "      <td>2</td>\n",
       "      <td>Anfa, Casablanca, Casablanca-Settat</td>\n",
       "    </tr>\n",
       "  </tbody>\n",
       "</table>\n",
       "</div>"
      ],
      "text/plain": [
       "       price proprety type     surface bedroom bathroom  \\\n",
       "0    239,769     Apartment   1,399.31        2        2   \n",
       "1  1,798,271         House  14,531.28        6        6   \n",
       "2    434,582         House   4,305.56        4        6   \n",
       "3    129,875     Apartment     893.40        2        2   \n",
       "4    199,808     Apartment   1,367.02        3        2   \n",
       "\n",
       "                                             address  \n",
       "0    Ennakhil-(Palmeraie), Marrakech, Marrakesh-Safi  \n",
       "1    Ennakhil-(Palmeraie), Marrakech, Marrakesh-Safi  \n",
       "2      Ménara, Marrakech, Marrakesh-Tensift-El Haouz  \n",
       "3  Guéliz, Marrakech, Marrakesh-Tensift-El Haouz ...  \n",
       "4                Anfa, Casablanca, Casablanca-Settat  "
      ]
     },
     "execution_count": 65,
     "metadata": {},
     "output_type": "execute_result"
    }
   ],
   "source": [
    "df['price'] = df['price'].str.replace('USD $','')\n",
    "df['surface'] = df['surface'].str.replace('sq ft','')\n",
    "\n",
    "df.head()\n"
   ]
  },
  {
   "cell_type": "code",
   "execution_count": 79,
   "metadata": {},
   "outputs": [
    {
     "data": {
      "text/plain": [
       "price            0\n",
       "proprety type    0\n",
       "surface          0\n",
       "bedroom          0\n",
       "bathroom         0\n",
       "address          0\n",
       "dtype: int64"
      ]
     },
     "execution_count": 79,
     "metadata": {},
     "output_type": "execute_result"
    }
   ],
   "source": [
    "df.dropna(axis=0,inplace=True)\n",
    "df.isna().sum()"
   ]
  },
  {
   "cell_type": "code",
   "execution_count": 80,
   "metadata": {},
   "outputs": [
    {
     "data": {
      "text/plain": [
       "(370, 370)"
      ]
     },
     "execution_count": 80,
     "metadata": {},
     "output_type": "execute_result"
    }
   ],
   "source": [
    "df_di = df[df['price'].str.isdigit()]\n",
    "len(df_di),len(df)"
   ]
  },
  {
   "cell_type": "code",
   "execution_count": 82,
   "metadata": {},
   "outputs": [
    {
     "name": "stdout",
     "output_type": "stream",
     "text": [
      "<class 'pandas.core.frame.DataFrame'>\n",
      "Index: 370 entries, 0 to 418\n",
      "Data columns (total 6 columns):\n",
      " #   Column         Non-Null Count  Dtype \n",
      "---  ------         --------------  ----- \n",
      " 0   price          370 non-null    object\n",
      " 1   proprety type  370 non-null    object\n",
      " 2   surface        370 non-null    object\n",
      " 3   bedroom        370 non-null    object\n",
      " 4   bathroom       370 non-null    object\n",
      " 5   address        370 non-null    object\n",
      "dtypes: object(6)\n",
      "memory usage: 20.2+ KB\n"
     ]
    }
   ],
   "source": [
    "df.info()"
   ]
  },
  {
   "cell_type": "code",
   "execution_count": null,
   "metadata": {},
   "outputs": [],
   "source": [
    "df['price'] = df['price'].astype(float)\n",
    "df['surface'] = df['surface'].str.replace(',','').str.strip()\n",
    "df['surface'] = df['surface'].astype(float)"
   ]
  },
  {
   "cell_type": "code",
   "execution_count": 87,
   "metadata": {},
   "outputs": [
    {
     "data": {
      "text/plain": [
       "price            float64\n",
       "proprety type     object\n",
       "surface          float64\n",
       "bedroom           object\n",
       "bathroom          object\n",
       "address           object\n",
       "dtype: object"
      ]
     },
     "execution_count": 87,
     "metadata": {},
     "output_type": "execute_result"
    }
   ],
   "source": [
    "df.dtypes"
   ]
  },
  {
   "cell_type": "code",
   "execution_count": 90,
   "metadata": {},
   "outputs": [],
   "source": [
    "col = ['bedroom','bathroom']\n",
    "for i in col:\n",
    "    df[i] = df[i].apply(lambda x : np.nan if x.endswith('sq ft') else x)"
   ]
  },
  {
   "cell_type": "code",
   "execution_count": 93,
   "metadata": {},
   "outputs": [
    {
     "data": {
      "text/plain": [
       "price             0\n",
       "proprety type     0\n",
       "surface           0\n",
       "bedroom           4\n",
       "bathroom         43\n",
       "address           0\n",
       "dtype: int64"
      ]
     },
     "execution_count": 93,
     "metadata": {},
     "output_type": "execute_result"
    }
   ],
   "source": [
    "df.isna().sum()\n"
   ]
  },
  {
   "cell_type": "code",
   "execution_count": 94,
   "metadata": {},
   "outputs": [
    {
     "data": {
      "text/plain": [
       "price            0\n",
       "proprety type    0\n",
       "surface          0\n",
       "bedroom          0\n",
       "bathroom         0\n",
       "address          0\n",
       "dtype: int64"
      ]
     },
     "execution_count": 94,
     "metadata": {},
     "output_type": "execute_result"
    }
   ],
   "source": [
    "df.dropna(axis=0,inplace=True)\n",
    "df.isna().sum()\n"
   ]
  },
  {
   "cell_type": "code",
   "execution_count": 100,
   "metadata": {},
   "outputs": [
    {
     "data": {
      "text/plain": [
       "array(['Apartment', 'House', nan, 'Rural'], dtype=object)"
      ]
     },
     "execution_count": 100,
     "metadata": {},
     "output_type": "execute_result"
    }
   ],
   "source": [
    "df[\"proprety type\"] =df[\"proprety type\"].apply(lambda x : np.nan if x=='' else x)\n",
    "df[\"proprety type\"].unique()"
   ]
  },
  {
   "cell_type": "code",
   "execution_count": 101,
   "metadata": {},
   "outputs": [
    {
     "data": {
      "text/plain": [
       "price            0\n",
       "proprety type    3\n",
       "surface          0\n",
       "bedroom          0\n",
       "bathroom         0\n",
       "address          0\n",
       "dtype: int64"
      ]
     },
     "execution_count": 101,
     "metadata": {},
     "output_type": "execute_result"
    }
   ],
   "source": [
    "df.isna().sum()"
   ]
  },
  {
   "cell_type": "code",
   "execution_count": 102,
   "metadata": {},
   "outputs": [],
   "source": [
    "df.dropna(axis=0,inplace=True)"
   ]
  },
  {
   "cell_type": "code",
   "execution_count": 103,
   "metadata": {},
   "outputs": [
    {
     "data": {
      "text/html": [
       "<div>\n",
       "<style scoped>\n",
       "    .dataframe tbody tr th:only-of-type {\n",
       "        vertical-align: middle;\n",
       "    }\n",
       "\n",
       "    .dataframe tbody tr th {\n",
       "        vertical-align: top;\n",
       "    }\n",
       "\n",
       "    .dataframe thead th {\n",
       "        text-align: right;\n",
       "    }\n",
       "</style>\n",
       "<table border=\"1\" class=\"dataframe\">\n",
       "  <thead>\n",
       "    <tr style=\"text-align: right;\">\n",
       "      <th></th>\n",
       "      <th>price</th>\n",
       "      <th>proprety type</th>\n",
       "      <th>surface</th>\n",
       "      <th>bedroom</th>\n",
       "      <th>bathroom</th>\n",
       "      <th>address</th>\n",
       "    </tr>\n",
       "  </thead>\n",
       "  <tbody>\n",
       "    <tr>\n",
       "      <th>0</th>\n",
       "      <td>239769.0</td>\n",
       "      <td>Apartment</td>\n",
       "      <td>1399.31</td>\n",
       "      <td>2</td>\n",
       "      <td>2</td>\n",
       "      <td>Ennakhil-(Palmeraie), Marrakech, Marrakesh-Safi</td>\n",
       "    </tr>\n",
       "    <tr>\n",
       "      <th>1</th>\n",
       "      <td>1798271.0</td>\n",
       "      <td>House</td>\n",
       "      <td>14531.28</td>\n",
       "      <td>6</td>\n",
       "      <td>6</td>\n",
       "      <td>Ennakhil-(Palmeraie), Marrakech, Marrakesh-Safi</td>\n",
       "    </tr>\n",
       "    <tr>\n",
       "      <th>2</th>\n",
       "      <td>434582.0</td>\n",
       "      <td>House</td>\n",
       "      <td>4305.56</td>\n",
       "      <td>4</td>\n",
       "      <td>6</td>\n",
       "      <td>Ménara, Marrakech, Marrakesh-Tensift-El Haouz</td>\n",
       "    </tr>\n",
       "    <tr>\n",
       "      <th>3</th>\n",
       "      <td>129875.0</td>\n",
       "      <td>Apartment</td>\n",
       "      <td>893.40</td>\n",
       "      <td>2</td>\n",
       "      <td>2</td>\n",
       "      <td>Guéliz, Marrakech, Marrakesh-Tensift-El Haouz ...</td>\n",
       "    </tr>\n",
       "    <tr>\n",
       "      <th>4</th>\n",
       "      <td>199808.0</td>\n",
       "      <td>Apartment</td>\n",
       "      <td>1367.02</td>\n",
       "      <td>3</td>\n",
       "      <td>2</td>\n",
       "      <td>Anfa, Casablanca, Casablanca-Settat</td>\n",
       "    </tr>\n",
       "  </tbody>\n",
       "</table>\n",
       "</div>"
      ],
      "text/plain": [
       "       price proprety type   surface bedroom bathroom  \\\n",
       "0   239769.0     Apartment   1399.31       2        2   \n",
       "1  1798271.0         House  14531.28       6        6   \n",
       "2   434582.0         House   4305.56       4        6   \n",
       "3   129875.0     Apartment    893.40       2        2   \n",
       "4   199808.0     Apartment   1367.02       3        2   \n",
       "\n",
       "                                             address  \n",
       "0    Ennakhil-(Palmeraie), Marrakech, Marrakesh-Safi  \n",
       "1    Ennakhil-(Palmeraie), Marrakech, Marrakesh-Safi  \n",
       "2      Ménara, Marrakech, Marrakesh-Tensift-El Haouz  \n",
       "3  Guéliz, Marrakech, Marrakesh-Tensift-El Haouz ...  \n",
       "4                Anfa, Casablanca, Casablanca-Settat  "
      ]
     },
     "execution_count": 103,
     "metadata": {},
     "output_type": "execute_result"
    }
   ],
   "source": [
    "df.head()"
   ]
  },
  {
   "cell_type": "code",
   "execution_count": 104,
   "metadata": {},
   "outputs": [
    {
     "data": {
      "text/html": [
       "<div>\n",
       "<style scoped>\n",
       "    .dataframe tbody tr th:only-of-type {\n",
       "        vertical-align: middle;\n",
       "    }\n",
       "\n",
       "    .dataframe tbody tr th {\n",
       "        vertical-align: top;\n",
       "    }\n",
       "\n",
       "    .dataframe thead th {\n",
       "        text-align: right;\n",
       "    }\n",
       "</style>\n",
       "<table border=\"1\" class=\"dataframe\">\n",
       "  <thead>\n",
       "    <tr style=\"text-align: right;\">\n",
       "      <th></th>\n",
       "      <th>price</th>\n",
       "      <th>proprety type</th>\n",
       "      <th>surface</th>\n",
       "      <th>bedroom</th>\n",
       "      <th>bathroom</th>\n",
       "      <th>address</th>\n",
       "      <th>city</th>\n",
       "      <th>principale</th>\n",
       "    </tr>\n",
       "  </thead>\n",
       "  <tbody>\n",
       "    <tr>\n",
       "      <th>0</th>\n",
       "      <td>239769.0</td>\n",
       "      <td>Apartment</td>\n",
       "      <td>1399.31</td>\n",
       "      <td>2</td>\n",
       "      <td>2</td>\n",
       "      <td>Ennakhil-(Palmeraie), Marrakech, Marrakesh-Safi</td>\n",
       "      <td>Marrakech</td>\n",
       "      <td>Marrakesh-Safi</td>\n",
       "    </tr>\n",
       "    <tr>\n",
       "      <th>1</th>\n",
       "      <td>1798271.0</td>\n",
       "      <td>House</td>\n",
       "      <td>14531.28</td>\n",
       "      <td>6</td>\n",
       "      <td>6</td>\n",
       "      <td>Ennakhil-(Palmeraie), Marrakech, Marrakesh-Safi</td>\n",
       "      <td>Marrakech</td>\n",
       "      <td>Marrakesh-Safi</td>\n",
       "    </tr>\n",
       "    <tr>\n",
       "      <th>2</th>\n",
       "      <td>434582.0</td>\n",
       "      <td>House</td>\n",
       "      <td>4305.56</td>\n",
       "      <td>4</td>\n",
       "      <td>6</td>\n",
       "      <td>Ménara, Marrakech, Marrakesh-Tensift-El Haouz</td>\n",
       "      <td>Marrakech</td>\n",
       "      <td>Marrakesh-Tensift-El Haouz</td>\n",
       "    </tr>\n",
       "    <tr>\n",
       "      <th>3</th>\n",
       "      <td>129875.0</td>\n",
       "      <td>Apartment</td>\n",
       "      <td>893.40</td>\n",
       "      <td>2</td>\n",
       "      <td>2</td>\n",
       "      <td>Guéliz, Marrakech, Marrakesh-Tensift-El Haouz ...</td>\n",
       "      <td>Marrakech</td>\n",
       "      <td>Marrakesh-Tensift-El Haouz 40000</td>\n",
       "    </tr>\n",
       "    <tr>\n",
       "      <th>4</th>\n",
       "      <td>199808.0</td>\n",
       "      <td>Apartment</td>\n",
       "      <td>1367.02</td>\n",
       "      <td>3</td>\n",
       "      <td>2</td>\n",
       "      <td>Anfa, Casablanca, Casablanca-Settat</td>\n",
       "      <td>Casablanca</td>\n",
       "      <td>Casablanca-Settat</td>\n",
       "    </tr>\n",
       "  </tbody>\n",
       "</table>\n",
       "</div>"
      ],
      "text/plain": [
       "       price proprety type   surface bedroom bathroom  \\\n",
       "0   239769.0     Apartment   1399.31       2        2   \n",
       "1  1798271.0         House  14531.28       6        6   \n",
       "2   434582.0         House   4305.56       4        6   \n",
       "3   129875.0     Apartment    893.40       2        2   \n",
       "4   199808.0     Apartment   1367.02       3        2   \n",
       "\n",
       "                                             address        city  \\\n",
       "0    Ennakhil-(Palmeraie), Marrakech, Marrakesh-Safi   Marrakech   \n",
       "1    Ennakhil-(Palmeraie), Marrakech, Marrakesh-Safi   Marrakech   \n",
       "2      Ménara, Marrakech, Marrakesh-Tensift-El Haouz   Marrakech   \n",
       "3  Guéliz, Marrakech, Marrakesh-Tensift-El Haouz ...   Marrakech   \n",
       "4                Anfa, Casablanca, Casablanca-Settat  Casablanca   \n",
       "\n",
       "                         principale  \n",
       "0                    Marrakesh-Safi  \n",
       "1                    Marrakesh-Safi  \n",
       "2        Marrakesh-Tensift-El Haouz  \n",
       "3  Marrakesh-Tensift-El Haouz 40000  \n",
       "4                 Casablanca-Settat  "
      ]
     },
     "execution_count": 104,
     "metadata": {},
     "output_type": "execute_result"
    }
   ],
   "source": [
    "df['city'] = df['address'].str.split(',').str[1].str.strip()\n",
    "df['principale'] = df['address'].str.split(',').str[2].str.strip()\n",
    "df.head()"
   ]
  },
  {
   "cell_type": "code",
   "execution_count": 105,
   "metadata": {},
   "outputs": [
    {
     "data": {
      "text/plain": [
       "array(['Marrakech', 'Casablanca', 'Casablanca-Settat', 'Marrakesh-Safi',\n",
       "       'Souss-Massa 80000', 'Souss-Massa', 'Marrakech-Ménara', 'Tétouan',\n",
       "       'Moulay-Bousselham', 'Essaouira', 'Rabat', 'Marrakech-Safi',\n",
       "       'Chtouka Ait Baha Province',\n",
       "       'No.42 No.Hay Moulay Dris Asilah Morocco', 'Rabat-Salé-Kénitra',\n",
       "       'No.42', 'Mallalienne', 'Marrakesh-Safi 40000', 'Tanger-Asilah',\n",
       "       'Sidi Abdallah Ghiat', 'Casablanca-Settat 24000',\n",
       "       'Massachusetts 01773', 'Massachusetts Wayland', 'Skhirat-Témara',\n",
       "       'Ben Slimane', 'Salé', 'Zagora', 'Mohammedia', 'Tamraght',\n",
       "       'Agadir', 'Safi', 'Fez', 'Tanger', 'Bouznika'], dtype=object)"
      ]
     },
     "execution_count": 105,
     "metadata": {},
     "output_type": "execute_result"
    }
   ],
   "source": [
    "df['city'].unique()"
   ]
  },
  {
   "cell_type": "code",
   "execution_count": 106,
   "metadata": {},
   "outputs": [
    {
     "data": {
      "text/plain": [
       "array(['Marrakech', 'Casablanca', 'Agadir', 'Tétouan', 'Unknown',\n",
       "       'Essaouira', 'Rabat', 'Chtouka Ait Baha Province', 'Asilah',\n",
       "       'Tangier', 'Sidi Abdallah Ghiat', 'Skhirat', 'Benslimane', 'Salé',\n",
       "       'Zagora', 'Mohammedia', 'Tamraght', 'Safi', 'Fez', 'Bouznika'],\n",
       "      dtype=object)"
      ]
     },
     "execution_count": 106,
     "metadata": {},
     "output_type": "execute_result"
    }
   ],
   "source": [
    "city_mapping = {\n",
    "    'Marrakech': 'Marrakech',\n",
    "    'Marrakesh-Safi': 'Marrakech',\n",
    "    'Marrakech-Safi': 'Marrakech',\n",
    "    'Marrakech-Ménara': 'Marrakech',\n",
    "    'Casablanca': 'Casablanca',\n",
    "    'Casablanca-Settat': 'Casablanca',\n",
    "    'Casablanca-Settat 24000': 'Casablanca',\n",
    "    'Rabat': 'Rabat',\n",
    "    'Rabat-Salé-Kénitra': 'Rabat',\n",
    "    'Tanger': 'Tangier',\n",
    "    'Tanger-Asilah': 'Tangier',\n",
    "    'Agadir': 'Agadir',\n",
    "    'Safi': 'Safi',\n",
    "    'Essaouira': 'Essaouira',\n",
    "    'Fez': 'Fez',\n",
    "    'Zagora': 'Zagora',\n",
    "    'Tétouan': 'Tétouan',\n",
    "    'Souss-Massa': 'Agadir',\n",
    "    'Souss-Massa 80000': 'Agadir',\n",
    "    'Massachusetts 01773': 'Unknown',\n",
    "    'Massachusetts Wayland': 'Unknown',\n",
    "    'Skhirat-Témara': 'Skhirat',\n",
    "    'No.42': 'Unknown',\n",
    "    'No.42 No.Hay Moulay Dris Asilah Morocco': 'Asilah',\n",
    "    'Ben Slimane': 'Benslimane',\n",
    "    'Mallalienne': 'Unknown',\n",
    "    'Bouznika': 'Bouznika',\n",
    "    'Tamraght': 'Tamraght',\n",
    "    'Sidi Abdallah Ghiat': 'Sidi Abdallah Ghiat',\n",
    "    'Mohammedia': 'Mohammedia',\n",
    "    'Salé': 'Salé',\n",
    "    'Chtouka Ait Baha Province': 'Chtouka Ait Baha Province',\n",
    "}\n",
    "\n",
    "\n",
    "df['city'] = df['city'].map(city_mapping).fillna('Unknown')\n",
    "\n",
    "df['city'].unique()"
   ]
  },
  {
   "cell_type": "code",
   "execution_count": 119,
   "metadata": {},
   "outputs": [
    {
     "data": {
      "text/plain": [
       "array(['Marrakesh-Safi', 'Marrakesh-Tensift-El Haouz',\n",
       "       'Casablanca-Settat', nan, 'Province de',\n",
       "       'Tangier-Tétouan-Al Hoceima', 'Rabat-Salé-Kénitra', 'Morocco',\n",
       "       'Souss-Massa-Draa', 'Asilah', 'Grand Casablanca', 'Agadir',\n",
       "       'Souss-Massa', 'Safi', 'Essaouira', 'Fez', 'Casablanca'],\n",
       "      dtype=object)"
      ]
     },
     "execution_count": 119,
     "metadata": {},
     "output_type": "execute_result"
    }
   ],
   "source": [
    "df.iloc[:,7] = df.iloc[:,7].str.replace(r'\\d+', '', regex=True).str.strip()\n",
    "df.iloc[:,7].unique()"
   ]
  },
  {
   "cell_type": "code",
   "execution_count": 115,
   "metadata": {},
   "outputs": [],
   "source": [
    "for i in ['bedroom','bathroom']:\n",
    "    df[i] = df[i].astype(int)"
   ]
  },
  {
   "cell_type": "code",
   "execution_count": 116,
   "metadata": {},
   "outputs": [
    {
     "name": "stdout",
     "output_type": "stream",
     "text": [
      "<class 'pandas.core.frame.DataFrame'>\n",
      "Index: 324 entries, 0 to 417\n",
      "Data columns (total 8 columns):\n",
      " #   Column         Non-Null Count  Dtype  \n",
      "---  ------         --------------  -----  \n",
      " 0   price          324 non-null    float64\n",
      " 1   proprety type  324 non-null    object \n",
      " 2   surface        324 non-null    float64\n",
      " 3   bedroom        324 non-null    int64  \n",
      " 4   bathroom       324 non-null    int64  \n",
      " 5   address        324 non-null    object \n",
      " 6   city           324 non-null    object \n",
      " 7   principale     141 non-null    object \n",
      "dtypes: float64(2), int64(2), object(4)\n",
      "memory usage: 30.9+ KB\n"
     ]
    }
   ],
   "source": [
    "df.info()"
   ]
  },
  {
   "cell_type": "code",
   "execution_count": 120,
   "metadata": {},
   "outputs": [
    {
     "data": {
      "text/html": [
       "<div>\n",
       "<style scoped>\n",
       "    .dataframe tbody tr th:only-of-type {\n",
       "        vertical-align: middle;\n",
       "    }\n",
       "\n",
       "    .dataframe tbody tr th {\n",
       "        vertical-align: top;\n",
       "    }\n",
       "\n",
       "    .dataframe thead th {\n",
       "        text-align: right;\n",
       "    }\n",
       "</style>\n",
       "<table border=\"1\" class=\"dataframe\">\n",
       "  <thead>\n",
       "    <tr style=\"text-align: right;\">\n",
       "      <th></th>\n",
       "      <th>price</th>\n",
       "      <th>proprety type</th>\n",
       "      <th>surface</th>\n",
       "      <th>bedroom</th>\n",
       "      <th>bathroom</th>\n",
       "      <th>address</th>\n",
       "      <th>city</th>\n",
       "      <th>principale</th>\n",
       "    </tr>\n",
       "  </thead>\n",
       "  <tbody>\n",
       "    <tr>\n",
       "      <th>0</th>\n",
       "      <td>239769.0</td>\n",
       "      <td>Apartment</td>\n",
       "      <td>1399.31</td>\n",
       "      <td>2</td>\n",
       "      <td>2</td>\n",
       "      <td>Ennakhil-(Palmeraie), Marrakech, Marrakesh-Safi</td>\n",
       "      <td>Marrakech</td>\n",
       "      <td>Marrakesh-Safi</td>\n",
       "    </tr>\n",
       "    <tr>\n",
       "      <th>1</th>\n",
       "      <td>1798271.0</td>\n",
       "      <td>House</td>\n",
       "      <td>14531.28</td>\n",
       "      <td>6</td>\n",
       "      <td>6</td>\n",
       "      <td>Ennakhil-(Palmeraie), Marrakech, Marrakesh-Safi</td>\n",
       "      <td>Marrakech</td>\n",
       "      <td>Marrakesh-Safi</td>\n",
       "    </tr>\n",
       "    <tr>\n",
       "      <th>2</th>\n",
       "      <td>434582.0</td>\n",
       "      <td>House</td>\n",
       "      <td>4305.56</td>\n",
       "      <td>4</td>\n",
       "      <td>6</td>\n",
       "      <td>Ménara, Marrakech, Marrakesh-Tensift-El Haouz</td>\n",
       "      <td>Marrakech</td>\n",
       "      <td>Marrakesh-Tensift-El Haouz</td>\n",
       "    </tr>\n",
       "    <tr>\n",
       "      <th>3</th>\n",
       "      <td>129875.0</td>\n",
       "      <td>Apartment</td>\n",
       "      <td>893.40</td>\n",
       "      <td>2</td>\n",
       "      <td>2</td>\n",
       "      <td>Guéliz, Marrakech, Marrakesh-Tensift-El Haouz ...</td>\n",
       "      <td>Marrakech</td>\n",
       "      <td>Marrakesh-Tensift-El Haouz</td>\n",
       "    </tr>\n",
       "    <tr>\n",
       "      <th>4</th>\n",
       "      <td>199808.0</td>\n",
       "      <td>Apartment</td>\n",
       "      <td>1367.02</td>\n",
       "      <td>3</td>\n",
       "      <td>2</td>\n",
       "      <td>Anfa, Casablanca, Casablanca-Settat</td>\n",
       "      <td>Casablanca</td>\n",
       "      <td>Casablanca-Settat</td>\n",
       "    </tr>\n",
       "  </tbody>\n",
       "</table>\n",
       "</div>"
      ],
      "text/plain": [
       "       price proprety type   surface  bedroom  bathroom  \\\n",
       "0   239769.0     Apartment   1399.31        2         2   \n",
       "1  1798271.0         House  14531.28        6         6   \n",
       "2   434582.0         House   4305.56        4         6   \n",
       "3   129875.0     Apartment    893.40        2         2   \n",
       "4   199808.0     Apartment   1367.02        3         2   \n",
       "\n",
       "                                             address        city  \\\n",
       "0    Ennakhil-(Palmeraie), Marrakech, Marrakesh-Safi   Marrakech   \n",
       "1    Ennakhil-(Palmeraie), Marrakech, Marrakesh-Safi   Marrakech   \n",
       "2      Ménara, Marrakech, Marrakesh-Tensift-El Haouz   Marrakech   \n",
       "3  Guéliz, Marrakech, Marrakesh-Tensift-El Haouz ...   Marrakech   \n",
       "4                Anfa, Casablanca, Casablanca-Settat  Casablanca   \n",
       "\n",
       "                   principale  \n",
       "0              Marrakesh-Safi  \n",
       "1              Marrakesh-Safi  \n",
       "2  Marrakesh-Tensift-El Haouz  \n",
       "3  Marrakesh-Tensift-El Haouz  \n",
       "4           Casablanca-Settat  "
      ]
     },
     "execution_count": 120,
     "metadata": {},
     "output_type": "execute_result"
    }
   ],
   "source": [
    "df.head()"
   ]
  },
  {
   "cell_type": "code",
   "execution_count": 127,
   "metadata": {},
   "outputs": [],
   "source": [
    "df.rename(columns={'price':'price_£'},inplace=True)"
   ]
  },
  {
   "cell_type": "code",
   "execution_count": 128,
   "metadata": {},
   "outputs": [
    {
     "data": {
      "text/html": [
       "<div>\n",
       "<style scoped>\n",
       "    .dataframe tbody tr th:only-of-type {\n",
       "        vertical-align: middle;\n",
       "    }\n",
       "\n",
       "    .dataframe tbody tr th {\n",
       "        vertical-align: top;\n",
       "    }\n",
       "\n",
       "    .dataframe thead th {\n",
       "        text-align: right;\n",
       "    }\n",
       "</style>\n",
       "<table border=\"1\" class=\"dataframe\">\n",
       "  <thead>\n",
       "    <tr style=\"text-align: right;\">\n",
       "      <th></th>\n",
       "      <th>price_£</th>\n",
       "      <th>proprety type</th>\n",
       "      <th>surface</th>\n",
       "      <th>bedroom</th>\n",
       "      <th>bathroom</th>\n",
       "      <th>address</th>\n",
       "      <th>city</th>\n",
       "      <th>principale</th>\n",
       "    </tr>\n",
       "  </thead>\n",
       "  <tbody>\n",
       "    <tr>\n",
       "      <th>0</th>\n",
       "      <td>239769.0</td>\n",
       "      <td>Apartment</td>\n",
       "      <td>1399.31</td>\n",
       "      <td>2</td>\n",
       "      <td>2</td>\n",
       "      <td>Ennakhil-(Palmeraie), Marrakech, Marrakesh-Safi</td>\n",
       "      <td>Marrakech</td>\n",
       "      <td>Marrakesh-Safi</td>\n",
       "    </tr>\n",
       "    <tr>\n",
       "      <th>1</th>\n",
       "      <td>1798271.0</td>\n",
       "      <td>House</td>\n",
       "      <td>14531.28</td>\n",
       "      <td>6</td>\n",
       "      <td>6</td>\n",
       "      <td>Ennakhil-(Palmeraie), Marrakech, Marrakesh-Safi</td>\n",
       "      <td>Marrakech</td>\n",
       "      <td>Marrakesh-Safi</td>\n",
       "    </tr>\n",
       "    <tr>\n",
       "      <th>2</th>\n",
       "      <td>434582.0</td>\n",
       "      <td>House</td>\n",
       "      <td>4305.56</td>\n",
       "      <td>4</td>\n",
       "      <td>6</td>\n",
       "      <td>Ménara, Marrakech, Marrakesh-Tensift-El Haouz</td>\n",
       "      <td>Marrakech</td>\n",
       "      <td>Marrakesh-Tensift-El Haouz</td>\n",
       "    </tr>\n",
       "    <tr>\n",
       "      <th>3</th>\n",
       "      <td>129875.0</td>\n",
       "      <td>Apartment</td>\n",
       "      <td>893.40</td>\n",
       "      <td>2</td>\n",
       "      <td>2</td>\n",
       "      <td>Guéliz, Marrakech, Marrakesh-Tensift-El Haouz ...</td>\n",
       "      <td>Marrakech</td>\n",
       "      <td>Marrakesh-Tensift-El Haouz</td>\n",
       "    </tr>\n",
       "    <tr>\n",
       "      <th>4</th>\n",
       "      <td>199808.0</td>\n",
       "      <td>Apartment</td>\n",
       "      <td>1367.02</td>\n",
       "      <td>3</td>\n",
       "      <td>2</td>\n",
       "      <td>Anfa, Casablanca, Casablanca-Settat</td>\n",
       "      <td>Casablanca</td>\n",
       "      <td>Casablanca-Settat</td>\n",
       "    </tr>\n",
       "    <tr>\n",
       "      <th>...</th>\n",
       "      <td>...</td>\n",
       "      <td>...</td>\n",
       "      <td>...</td>\n",
       "      <td>...</td>\n",
       "      <td>...</td>\n",
       "      <td>...</td>\n",
       "      <td>...</td>\n",
       "      <td>...</td>\n",
       "    </tr>\n",
       "    <tr>\n",
       "      <th>408</th>\n",
       "      <td>1890611.0</td>\n",
       "      <td>House</td>\n",
       "      <td>6673.68</td>\n",
       "      <td>7</td>\n",
       "      <td>8</td>\n",
       "      <td>Les rocher 45 Les rocher 45, Bouznika, Casablanca</td>\n",
       "      <td>Bouznika</td>\n",
       "      <td>Casablanca</td>\n",
       "    </tr>\n",
       "    <tr>\n",
       "      <th>409</th>\n",
       "      <td>462149.0</td>\n",
       "      <td>House</td>\n",
       "      <td>2583.34</td>\n",
       "      <td>4</td>\n",
       "      <td>4</td>\n",
       "      <td>Essaouira, Marrakesh-Safi</td>\n",
       "      <td>Marrakech</td>\n",
       "      <td>NaN</td>\n",
       "    </tr>\n",
       "    <tr>\n",
       "      <th>410</th>\n",
       "      <td>1260408.0</td>\n",
       "      <td>House</td>\n",
       "      <td>8072.93</td>\n",
       "      <td>8</td>\n",
       "      <td>8</td>\n",
       "      <td>Essaouira, Marrakesh-Safi</td>\n",
       "      <td>Marrakech</td>\n",
       "      <td>NaN</td>\n",
       "    </tr>\n",
       "    <tr>\n",
       "      <th>411</th>\n",
       "      <td>315102.0</td>\n",
       "      <td>House</td>\n",
       "      <td>1722.23</td>\n",
       "      <td>3</td>\n",
       "      <td>3</td>\n",
       "      <td>Essaouira, Marrakesh-Safi</td>\n",
       "      <td>Marrakech</td>\n",
       "      <td>NaN</td>\n",
       "    </tr>\n",
       "    <tr>\n",
       "      <th>417</th>\n",
       "      <td>945306.0</td>\n",
       "      <td>House</td>\n",
       "      <td>8611.13</td>\n",
       "      <td>7</td>\n",
       "      <td>10</td>\n",
       "      <td>Essaouira, Marrakesh-Safi</td>\n",
       "      <td>Marrakech</td>\n",
       "      <td>NaN</td>\n",
       "    </tr>\n",
       "  </tbody>\n",
       "</table>\n",
       "<p>324 rows × 8 columns</p>\n",
       "</div>"
      ],
      "text/plain": [
       "       price_£ proprety type   surface  bedroom  bathroom  \\\n",
       "0     239769.0     Apartment   1399.31        2         2   \n",
       "1    1798271.0         House  14531.28        6         6   \n",
       "2     434582.0         House   4305.56        4         6   \n",
       "3     129875.0     Apartment    893.40        2         2   \n",
       "4     199808.0     Apartment   1367.02        3         2   \n",
       "..         ...           ...       ...      ...       ...   \n",
       "408  1890611.0         House   6673.68        7         8   \n",
       "409   462149.0         House   2583.34        4         4   \n",
       "410  1260408.0         House   8072.93        8         8   \n",
       "411   315102.0         House   1722.23        3         3   \n",
       "417   945306.0         House   8611.13        7        10   \n",
       "\n",
       "                                               address        city  \\\n",
       "0      Ennakhil-(Palmeraie), Marrakech, Marrakesh-Safi   Marrakech   \n",
       "1      Ennakhil-(Palmeraie), Marrakech, Marrakesh-Safi   Marrakech   \n",
       "2        Ménara, Marrakech, Marrakesh-Tensift-El Haouz   Marrakech   \n",
       "3    Guéliz, Marrakech, Marrakesh-Tensift-El Haouz ...   Marrakech   \n",
       "4                  Anfa, Casablanca, Casablanca-Settat  Casablanca   \n",
       "..                                                 ...         ...   \n",
       "408  Les rocher 45 Les rocher 45, Bouznika, Casablanca    Bouznika   \n",
       "409                          Essaouira, Marrakesh-Safi   Marrakech   \n",
       "410                          Essaouira, Marrakesh-Safi   Marrakech   \n",
       "411                          Essaouira, Marrakesh-Safi   Marrakech   \n",
       "417                          Essaouira, Marrakesh-Safi   Marrakech   \n",
       "\n",
       "                     principale  \n",
       "0                Marrakesh-Safi  \n",
       "1                Marrakesh-Safi  \n",
       "2    Marrakesh-Tensift-El Haouz  \n",
       "3    Marrakesh-Tensift-El Haouz  \n",
       "4             Casablanca-Settat  \n",
       "..                          ...  \n",
       "408                  Casablanca  \n",
       "409                         NaN  \n",
       "410                         NaN  \n",
       "411                         NaN  \n",
       "417                         NaN  \n",
       "\n",
       "[324 rows x 8 columns]"
      ]
     },
     "execution_count": 128,
     "metadata": {},
     "output_type": "execute_result"
    }
   ],
   "source": [
    "df"
   ]
  },
  {
   "cell_type": "code",
   "execution_count": 148,
   "metadata": {},
   "outputs": [],
   "source": [
    "# for readibility \n",
    "df['price_k'] = df['price_£']/1000\n"
   ]
  },
  {
   "cell_type": "code",
   "execution_count": 131,
   "metadata": {},
   "outputs": [],
   "source": [
    "df.to_csv('housing_sales_ma_.csv',index=False,encoding='utf-8')"
   ]
  },
  {
   "cell_type": "code",
   "execution_count": 151,
   "metadata": {},
   "outputs": [],
   "source": [
    "df.drop('price_k$',axis=1,inplace=True)"
   ]
  }
 ],
 "metadata": {
  "kernelspec": {
   "display_name": "env_1-",
   "language": "python",
   "name": "python3"
  },
  "language_info": {
   "codemirror_mode": {
    "name": "ipython",
    "version": 3
   },
   "file_extension": ".py",
   "mimetype": "text/x-python",
   "name": "python",
   "nbconvert_exporter": "python",
   "pygments_lexer": "ipython3",
   "version": "3.11.10"
  }
 },
 "nbformat": 4,
 "nbformat_minor": 2
}
